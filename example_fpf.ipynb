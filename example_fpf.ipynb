{
 "cells": [
  {
   "cell_type": "code",
   "execution_count": 1,
   "id": "53627968-1d64-4441-ad83-28767013b2c0",
   "metadata": {},
   "outputs": [],
   "source": [
    "%load_ext autoreload\n",
    "%autoreload 2"
   ]
  },
  {
   "cell_type": "code",
   "execution_count": 2,
   "id": "19eb3cc9-0050-47b6-a6b4-cd6d7c097b43",
   "metadata": {},
   "outputs": [],
   "source": [
    "import tensorflow as tf\n",
    "from keras.layers import Embedding, SimpleRNN\n",
    "from keras.models import Sequential\n",
    "from FixedPointFinderTF2 import FixedPointFinderTF2"
   ]
  },
  {
   "cell_type": "code",
   "execution_count": 3,
   "id": "8ab71c83-9de9-4b67-bbac-c57b4a0db7f9",
   "metadata": {},
   "outputs": [],
   "source": [
    "import numpy as np"
   ]
  },
  {
   "cell_type": "code",
   "execution_count": 4,
   "id": "9cf3f210-f82e-44b7-abb8-3112efc64fff",
   "metadata": {},
   "outputs": [],
   "source": [
    "input_dim = 10\n",
    "hidden_dim = 3\n",
    "\n",
    "inputs = tf.constant(np.random.random([5,10]).astype(np.float32))  # 5, 1, 10\n",
    "initial_states = tf.constant(np.random.random([5, 3]).astype(np.float32)) \n",
    "\n",
    "simple_rnn = tf.keras.layers.SimpleRNNCell(3)\n",
    "rnn = tf.keras.layers.RNN(simple_rnn)\n",
    "\n",
    "output, f_output = simple_rnn(inputs, initial_states) "
   ]
  },
  {
   "cell_type": "code",
   "execution_count": 5,
   "id": "5e289ec3-fed5-435f-a667-b7117253022a",
   "metadata": {},
   "outputs": [
    {
     "data": {
      "text/plain": [
       "(TensorShape([5, 10]), TensorShape([5, 3]), TensorShape([5, 3]))"
      ]
     },
     "execution_count": 5,
     "metadata": {},
     "output_type": "execute_result"
    }
   ],
   "source": [
    "inputs.shape, initial_states.shape, f_output.shape"
   ]
  },
  {
   "cell_type": "code",
   "execution_count": 6,
   "id": "fdefe246-64b2-4e4d-ba77-ad7c0c8a73c7",
   "metadata": {},
   "outputs": [],
   "source": [
    "# bx1xd, # bxd"
   ]
  },
  {
   "cell_type": "code",
   "execution_count": 7,
   "id": "132e5b01-44e8-41e9-8d1b-c672d3c40557",
   "metadata": {},
   "outputs": [],
   "source": [
    "fpf = FixedPointFinderTF2(simple_rnn, lr_init=0.01, verbose=1)"
   ]
  },
  {
   "cell_type": "code",
   "execution_count": 8,
   "id": "2da02481-8f17-4ee3-8046-70399d16ebc4",
   "metadata": {},
   "outputs": [
    {
     "name": "stdout",
     "output_type": "stream",
     "text": [
      "\tFreezing model parameters so model is not affected by fixed point optimization.\n",
      "\tFinding fixed points via joint optimization.\n",
      "\tOptimization complete to desired tolerance.\n",
      "\t\t369 iters\n",
      "\t\tq = 1.09e-13 +/- 1.92e-13\n",
      "\t\tdq = 1.79e-13 +/- 3.57e-13\n",
      "\t\tlearning rate = 1.00e-02\n",
      "\t\tavg iter time = 5.40e-03 sec\n"
     ]
    }
   ],
   "source": [
    "fps = fpf._run_joint_optimization(initial_states, inputs)"
   ]
  },
  {
   "cell_type": "code",
   "execution_count": 10,
   "id": "a5035335-d142-4dbc-835c-4ce10d82cd3b",
   "metadata": {},
   "outputs": [],
   "source": [
    "fps.J_xstar = fpf._compute_recurrent_jacobians(fps)"
   ]
  },
  {
   "cell_type": "code",
   "execution_count": 12,
   "id": "80671f2c-edf4-4a3f-837b-2c394469760f",
   "metadata": {},
   "outputs": [
    {
     "name": "stdout",
     "output_type": "stream",
     "text": [
      "Decomposing Jacobians in a single batch.\n",
      "Sorting by Eigenvalue magnitude.\n"
     ]
    }
   ],
   "source": [
    "fps.decompose_jacobians()"
   ]
  },
  {
   "cell_type": "code",
   "execution_count": 13,
   "id": "92319430-b445-4612-ba04-74be2af274a5",
   "metadata": {},
   "outputs": [
    {
     "data": {
      "text/plain": [
       "array([ True,  True,  True,  True,  True])"
      ]
     },
     "execution_count": 13,
     "metadata": {},
     "output_type": "execute_result"
    }
   ],
   "source": [
    "fps.is_stable"
   ]
  },
  {
   "cell_type": "code",
   "execution_count": null,
   "id": "1c0c6c91-5b90-48b8-9c50-27d95de763a8",
   "metadata": {},
   "outputs": [],
   "source": []
  }
 ],
 "metadata": {
  "kernelspec": {
   "display_name": "Python 3 (ipykernel)",
   "language": "python",
   "name": "python3"
  },
  "language_info": {
   "codemirror_mode": {
    "name": "ipython",
    "version": 3
   },
   "file_extension": ".py",
   "mimetype": "text/x-python",
   "name": "python",
   "nbconvert_exporter": "python",
   "pygments_lexer": "ipython3",
   "version": "3.10.13"
  }
 },
 "nbformat": 4,
 "nbformat_minor": 5
}
